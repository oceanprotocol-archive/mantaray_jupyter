{
 "cells": [
  {
   "cell_type": "markdown",
   "metadata": {},
   "source": [
    "\n",
    "<p><img src=\"https://oceanprotocol.com/static/media/banner-ocean-03@2x.b7272597.png\" alt=\"drawing\" width=\"800\" align=\"center\"/>"
   ]
  },
  {
   "cell_type": "markdown",
   "metadata": {
    "lines_to_next_cell": 2
   },
   "source": [
    "\n",
    "<h1><center>Ocean Protocol - Manta Ray project</center></h1>\n",
    "<h3><center>Decentralized Data Science and Engineering, powered by Ocean Protocol</center></h3>\n",
    "<p>Version 0.6.6 - beta</p>\n",
    "<p>Package compatibility: squid-py v0.9.2, keeper-contracts 0.13.2, utilities 0.3.0,\n",
    "<p>Component compatibility (Nile): Brizo v0.9.4, Aquarius v1.0.7, Nile testnet smart contracts 0.13.2</p>\n",
    "\n",
    "<p><a href=\"https://github.com/oceanprotocol/mantaray\">mantaray on Github</a></p>\n",
    "<p>"
   ]
  },
  {
   "cell_type": "markdown",
   "metadata": {},
   "source": [
    "# Getting Underway - Publishing asset with private data and compute service\n",
    "In this notebook, we will explore how to publish an Asset with private dataset and compute service.\n",
    "The private data files will not leave outside the private premises. Instead, a compute service will be\n",
    "available for running algorithms to train on the dataset.\n",
    "\n",
    "A publisher will require access to two services;\n",
    "1. A service to store the MetaData of the asset (part of the DDO) - 'Aquarius'\n",
    "1. A service to manage permissioned access to the compute resource\n",
    "   that is allowed to access the private data - 'Brizo'\n",
    "\n",
    "The publishing of an asset consists of;\n",
    "1. Preparing the asset files locally\n",
    "1. Preparing the metadata of the asset\n",
    "1. Make files URLs or identifiers that can be used to identify the data files when running compute jobs\n",
    "1. Define the attributes of the compute service (i.e. compute resources and service endpoint)\n",
    "1. Registering the metadata and service endpoints into Aquarius\n",
    "1. Registering the asset into the Blockchain (into the DID Registry)"
   ]
  },
  {
   "cell_type": "markdown",
   "metadata": {},
   "source": [
    "<p><img src=\"https://raw.githubusercontent.com/oceanprotocol/mantaray/develop/doc/img/jupyter_cell.png\" alt=\"drawing\" width=\"400\" align=\"center\"/></p>\n",
    "<p><b>Overall client and service architecture</b></p>"
   ]
  },
  {
   "cell_type": "markdown",
   "metadata": {
    "lines_to_next_cell": 0
   },
   "source": [
    "### Section 0: Import modules, connect the Ocean Protocol API"
   ]
  },
  {
   "cell_type": "code",
   "execution_count": null,
   "metadata": {},
   "outputs": [],
   "source": [
    "# Standard imports\n",
    "import json\n",
    "import logging\n",
    "import os\n",
    "import time\n",
    "from pathlib import Path\n",
    "\n",
    "# Import mantaray and the Ocean API (squid)\n",
    "import squid_py\n",
    "from ocean_keeper.web3_provider import Web3Provider\n",
    "from mantaray_utilities.misc import get_algorithm_example\n",
    "from mantaray_utilities.user import create_account\n",
    "from ocean_utils.agreements.service_factory import ServiceDescriptor\n",
    "from ocean_utils.agreements.service_types import ServiceTypes\n",
    "from ocean_utils.utils.utilities import get_timestamp\n",
    "from squid_py import ConfigProvider\n",
    "from squid_py.brizo.brizo import Brizo\n",
    "from squid_py.models.algorithm_metadata import AlgorithmMetadata\n",
    "from squid_py.ocean.ocean import Ocean\n",
    "from squid_py.config import Config\n",
    "from mantaray_utilities import logging as manta_logging, config\n",
    "from mantaray_utilities.misc import get_metadata_example\n",
    "\n",
    "from pprint import pprint\n",
    "\n",
    "# Setup logging\n",
    "manta_logging.logger.setLevel('INFO')\n",
    "print(\"squid-py Ocean API version:\", squid_py.__version__)"
   ]
  },
  {
   "cell_type": "code",
   "execution_count": null,
   "metadata": {
    "lines_to_next_cell": 0
   },
   "outputs": [],
   "source": [
    "# Get the configuration file path for this environment\n",
    "OCEAN_CONFIG_PATH = Path(os.path.expanduser(os.environ['OCEAN_CONFIG_PATH']))\n",
    "assert OCEAN_CONFIG_PATH.exists(), \"{} - path does not exist\".format(OCEAN_CONFIG_PATH)\n",
    "logging.critical(\"Configuration file selected: {}\".format(OCEAN_CONFIG_PATH))\n",
    "logging.critical(\"Deployment type: {}\".format(config.get_deployment_type()))\n",
    "logging.critical(\"Squid API version: {}\".format(squid_py.__version__))"
   ]
  },
  {
   "cell_type": "code",
   "execution_count": null,
   "metadata": {
    "lines_to_next_cell": 0
   },
   "outputs": [],
   "source": [
    "# Instantiate Ocean with the default configuration file.\n",
    "configuration = Config(OCEAN_CONFIG_PATH)\n",
    "ConfigProvider.set_config(configuration)\n",
    "ocn = Ocean(configuration)\n",
    "# faucet is used to request eth from the TESTNET (e.g. the Nile testnet)\n",
    "faucet_url = ocn.config.get('keeper-contracts', 'faucet.url')\n",
    "scale = 10**18"
   ]
  },
  {
   "cell_type": "code",
   "execution_count": null,
   "metadata": {
    "lines_to_next_cell": 0
   },
   "outputs": [],
   "source": [
    "# Prepare the provider address to use when creating the asset and service agreement\n",
    "web3 = Web3Provider.get_web3()\n",
    "provider_address = web3.toChecksumAddress(configuration.provider_address)\n",
    "print(f'Will be using provider (Brizo) address: {provider_address}')"
   ]
  },
  {
   "cell_type": "markdown",
   "metadata": {
    "lines_to_next_cell": 0
   },
   "source": [
    "We need accounts for the publisher and consumer, let's make new ones"
   ]
  },
  {
   "cell_type": "code",
   "execution_count": null,
   "metadata": {
    "lines_to_next_cell": 0
   },
   "outputs": [],
   "source": [
    "# Publisher account (will be filled with some TESTNET eth automatically)\n",
    "publisher_acct = create_account(faucet_url, wait=True)"
   ]
  },
  {
   "cell_type": "code",
   "execution_count": null,
   "metadata": {
    "lines_to_next_cell": 0
   },
   "outputs": [],
   "source": [
    "print(\"Publisher account address: {}\".format(publisher_acct.address))\n",
    "time.sleep(5)  # wait a bit more for the eth transaction to validate"
   ]
  },
  {
   "cell_type": "code",
   "execution_count": null,
   "metadata": {
    "lines_to_next_cell": 0
   },
   "outputs": [],
   "source": [
    "# ensure Ocean token balance\n",
    "if ocn.accounts.balance(publisher_acct).ocn/scale < 100:\n",
    "    ocn.accounts.request_tokens(publisher_acct, 100)\n",
    "print(\"Publisher account Testnet 'ETH' balance: {:>6.3f}\".format(ocn.accounts.balance(publisher_acct).eth/scale))\n",
    "print(\"Publisher account Testnet Ocean balance: {:>6.3f}\".format(ocn.accounts.balance(publisher_acct).ocn/scale))\n",
    "assert ocn.accounts.balance(publisher_acct).eth/scale > 0.0, 'Cannot continue without eth.'"
   ]
  },
  {
   "cell_type": "code",
   "execution_count": null,
   "metadata": {
    "lines_to_next_cell": 0
   },
   "outputs": [],
   "source": [
    "# Consumer account (same as above, will have some TESTNET eth added)\n",
    "consumer_account = create_account(faucet_url, wait=True)"
   ]
  },
  {
   "cell_type": "code",
   "execution_count": null,
   "metadata": {
    "lines_to_next_cell": 0
   },
   "outputs": [],
   "source": [
    "print(\"Consumer account address: {}\".format(consumer_account.address))\n",
    "time.sleep(5)  # wait a bit more for the eth transaction to validate"
   ]
  },
  {
   "cell_type": "code",
   "execution_count": null,
   "metadata": {},
   "outputs": [],
   "source": [
    "if ocn.accounts.balance(consumer_account).ocn/scale < 100:\n",
    "    ocn.accounts.request_tokens(consumer_account, 100)\n",
    "# Verify both ocean and eth balance\n",
    "print(\"Consumer account Testnet 'ETH' balance: {:>6.3f}\".format(ocn.accounts.balance(consumer_account).eth/scale))\n",
    "print(\"Consumer account Testnet Ocean balance: {:>6.3f}\".format(ocn.accounts.balance(consumer_account).ocn/scale))\n",
    "assert ocn.accounts.balance(consumer_account).eth/scale > 0.0, 'Cannot continue without eth.'\n",
    "assert ocn.accounts.balance(consumer_account).ocn/scale > 0.0, 'Cannot continue without Ocean Tokens.'"
   ]
  },
  {
   "cell_type": "markdown",
   "metadata": {
    "lines_to_next_cell": 0
   },
   "source": [
    "### Section 1: Publish the asset with compute service"
   ]
  },
  {
   "cell_type": "code",
   "execution_count": null,
   "metadata": {
    "lines_to_next_cell": 0
   },
   "outputs": [],
   "source": [
    "# Build compute service to be included in the asset DDO.\n",
    "cluster = ocn.compute.build_cluster_attributes('kubernetes', '/cluster/url')\n",
    "containers = [ocn.compute.build_container_attributes(\n",
    "    \"tensorflow/tensorflow\",\n",
    "    \"latest\",\n",
    "    \"sha256:cb57ecfa6ebbefd8ffc7f75c0f00e57a7fa739578a429b6f72a0df19315deadc\")\n",
    "]\n",
    "servers = [ocn.compute.build_server_attributes('1', 'xlsize', 16, 0, '16gb', '1tb', 2242244)]\n",
    "provider_attributes = ocn.compute.build_service_provider_attributes(\n",
    "    'Azure', 'Compute power 1', cluster, containers, servers\n",
    ")\n",
    "attributes = ocn.compute.create_compute_service_attributes(\n",
    "    13, 3600, publisher_acct.address, get_timestamp(), provider_attributes\n",
    ")\n",
    "service_endpoint = Brizo.get_compute_endpoint(ocn.config)\n",
    "template_id = ocn.keeper.template_manager.create_template_id(\n",
    "    ocn.keeper.template_manager.SERVICE_TO_TEMPLATE_NAME['compute']\n",
    ")\n",
    "service_descriptor = ServiceDescriptor.compute_service_descriptor(attributes, service_endpoint, template_id)"
   ]
  },
  {
   "cell_type": "code",
   "execution_count": null,
   "metadata": {},
   "outputs": [],
   "source": [
    "# Get example of Meta Data from file\n",
    "metadata = get_metadata_example()\n",
    "# Print the entire (JSON) dictionary\n",
    "# pprint(metadata)\n",
    "\n",
    "# With this metadata object prepared, we are ready to publish the asset into Ocean Protocol.\n",
    "ddo = ocn.assets.create(\n",
    "    metadata,\n",
    "    publisher_acct,\n",
    "    [service_descriptor],\n",
    "    providers=[provider_address],\n",
    "    use_secret_store=False\n",
    ")\n",
    "assert ddo, 'asset registration failed.'\n",
    "registered_did = ddo.did\n",
    "print(\"New asset registered at\", registered_did)\n",
    "time.sleep(5)\n",
    "asset = ocn.assets.resolve(ddo.did)\n",
    "assert asset and asset.did == ddo.did, 'Something is not right.'"
   ]
  },
  {
   "cell_type": "markdown",
   "metadata": {
    "lines_to_next_cell": 0
   },
   "source": [
    "Let's take a look at the compute service from the published DDO"
   ]
  },
  {
   "cell_type": "code",
   "execution_count": null,
   "metadata": {},
   "outputs": [],
   "source": [
    "compute_service = ddo.get_service(ServiceTypes.CLOUD_COMPUTE)\n",
    "pprint(\"Compute service definition: \\n{}\".format(json.dumps(compute_service.as_dictionary(), indent=2)))"
   ]
  },
  {
   "cell_type": "markdown",
   "metadata": {
    "lines_to_next_cell": 0
   },
   "source": [
    "### Section 2: Preparing the algorithm that will be run\n",
    "Grab the algorithm example from mantaray_utilities"
   ]
  },
  {
   "cell_type": "code",
   "execution_count": null,
   "metadata": {},
   "outputs": [],
   "source": [
    "algorithm_text = get_algorithm_example()\n",
    "print(f'algorithm: \\n{algorithm_text}')\n",
    "# build the algorithm metadata object to use in the compute request\n",
    "algorithm_meta = AlgorithmMetadata(\n",
    "    {\n",
    "        'language': 'python',\n",
    "        'rawcode': algorithm_text,\n",
    "        'container': {\n",
    "            'tag': 'latest',\n",
    "            'image': 'amancevice/pandas',\n",
    "            'entrypoint': 'python $ALGO'\n",
    "        }\n",
    "    }\n",
    ")\n",
    "# print(f'algorith meta: {algorithm_meta.as_dictionary()}')"
   ]
  },
  {
   "cell_type": "markdown",
   "metadata": {
    "lines_to_next_cell": 0
   },
   "source": [
    "### Section 3: Subscribe to the compute service\n",
    "Now we can prepare for running the remote compute, first we need to start an agreement to buy the service"
   ]
  },
  {
   "cell_type": "code",
   "execution_count": null,
   "metadata": {
    "lines_to_next_cell": 0
   },
   "outputs": [],
   "source": [
    "# First step in buying a service is placing the order which creates\n",
    "# and starts the service agreement process, consumer payment is\n",
    "# processed automatically once the agreement is created successfully.\n",
    "agreement_id = ocn.compute.order(\n",
    "    ddo.did,\n",
    "    consumer_account,\n",
    "    provider_address=provider_address\n",
    ")\n",
    "print(f'Got agreementId: {agreement_id}')"
   ]
  },
  {
   "cell_type": "code",
   "execution_count": null,
   "metadata": {
    "lines_to_next_cell": 0
   },
   "outputs": [],
   "source": [
    "# We should verify that the agreement is created successfully\n",
    "event = ocn.keeper.agreement_manager.subscribe_agreement_created(agreement_id, 20, None, (), wait=True)\n",
    "if event:\n",
    "    print(f'Got agreement event {agreement_id}: {event}')\n",
    "else:\n",
    "    print(f'Cannot find agreement event, could be a VM transaction error.')"
   ]
  },
  {
   "cell_type": "code",
   "execution_count": null,
   "metadata": {
    "lines_to_next_cell": 0
   },
   "outputs": [],
   "source": [
    "# Wait for payment transaction\n",
    "payment_locked_event = ocn.keeper.lock_reward_condition.subscribe_condition_fulfilled(\n",
    "    agreement_id, 30, None, [], wait=True, from_block=0\n",
    ")\n",
    "assert payment_locked_event, 'payment event was not found'\n",
    "print('Payment was successful.')"
   ]
  },
  {
   "cell_type": "code",
   "execution_count": null,
   "metadata": {},
   "outputs": [],
   "source": [
    "# and wait for service agreement approval from the provider end\n",
    "compute_approval_event = ocn.keeper.compute_execution_condition.subscribe_condition_fulfilled(\n",
    "    agreement_id, 30, None, [], wait=True, from_block=0\n",
    ")\n",
    "assert compute_approval_event, 'compute agreement is not approved yet.'\n",
    "print('Provider approval was successful.')"
   ]
  },
  {
   "cell_type": "markdown",
   "metadata": {
    "lines_to_next_cell": 0
   },
   "source": [
    "### Section 4: Run the algorithm remotely on the dataset\n",
    "Now that the agreement is approved by the provider, we can start the compute job"
   ]
  },
  {
   "cell_type": "code",
   "execution_count": null,
   "metadata": {
    "lines_to_next_cell": 0
   },
   "outputs": [],
   "source": [
    "# Submit algorithm to start the compute job\n",
    "job_id = ocn.compute.start(agreement_id, ddo.did, consumer_account, algorithm_meta=algorithm_meta)\n",
    "print(f'compute job started: jobId={job_id}')"
   ]
  },
  {
   "cell_type": "code",
   "execution_count": null,
   "metadata": {
    "lines_to_next_cell": 0
   },
   "outputs": [],
   "source": [
    "# check the compute job status\n",
    "status = ocn.compute.status(agreement_id, job_id, consumer_account)\n",
    "print(f'compute job status: {status}')"
   ]
  },
  {
   "cell_type": "markdown",
   "metadata": {
    "lines_to_next_cell": 0
   },
   "source": [
    "Wait for results\n"
   ]
  },
  {
   "cell_type": "code",
   "execution_count": null,
   "metadata": {},
   "outputs": [],
   "source": [
    "trials = 0\n",
    "result = ocn.compute.result(agreement_id, job_id, consumer_account)\n",
    "while not result.get('urls'):\n",
    "    print(f'result not available yet, trial {trials}/30, '\n",
    "          f'status is: {ocn.compute.status(agreement_id, job_id, consumer_account)}')\n",
    "    time.sleep(10)\n",
    "    result = ocn.compute.result(agreement_id, job_id, consumer_account)\n",
    "    trials = trials + 1\n",
    "    if trials > 30:\n",
    "        print(f'the run is taking too long, I give up.')\n",
    "        break\n",
    "print(f'got result from compute job: {result}')"
   ]
  }
 ],
 "metadata": {
  "jupytext": {
   "cell_metadata_filter": "-all",
   "main_language": "python",
   "notebook_metadata_filter": "-all"
  },
  "kernelspec": {
   "display_name": "Manta Ray",
   "language": "python",
   "name": "python3"
  }
 },
 "nbformat": 4,
 "nbformat_minor": 4
}
